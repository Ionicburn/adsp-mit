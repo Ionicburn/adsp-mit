{
  "nbformat": 4,
  "nbformat_minor": 0,
  "metadata": {
    "colab": {
      "name": "RobertKellogg_CapstonePrjDeepLearningCNN.ipynb",
      "provenance": [],
      "collapsed_sections": [],
      "mount_file_id": "1Xy1NxyBGLtahYgkMu38pTMUNx79orajn",
      "authorship_tag": "ABX9TyO3s95RKIx4+z/6TvDEwxAX",
      "include_colab_link": true
    },
    "kernelspec": {
      "name": "python3",
      "display_name": "Python 3"
    },
    "language_info": {
      "name": "python"
    }
  },
  "cells": [
    {
      "cell_type": "markdown",
      "metadata": {
        "id": "view-in-github",
        "colab_type": "text"
      },
      "source": [
        "<a href=\"https://colab.research.google.com/github/Ionicburn/adsp-mit/blob/main/RobertKellogg_CapstonePrjDeepLearningCNN.ipynb\" target=\"_parent\"><img src=\"https://colab.research.google.com/assets/colab-badge.svg\" alt=\"Open In Colab\"/></a>"
      ]
    },
    {
      "cell_type": "markdown",
      "metadata": {
        "id": "8mLHbsNTgggn"
      },
      "source": [
        "#Capstone Project - Malaria Detection\n",
        "##Context\n",
        "Malaria is a contagious disease caused by Plasmodium parasites that are transmitted to humans\n",
        "through the bites of infected female Anopheles mosquitoes. The parasites enter the blood and begin\n",
        "damaging red blood cells (RBCs) that carry oxygen, which can result in respiratory distress and other\n",
        "complications. The lethal parasites can stay alive for more than a year in a person’s body without\n",
        "showing any symptoms. Therefore, late treatment can cause complications and could even be fatal.\n",
        "Almost 50% of the world’s population is in danger from malaria. There were more than 229 million\n",
        "malaria cases and 400,000 malaria-related deaths reported over the world in 2019. Children under 5\n",
        "years of age are the most vulnerable population group affected by malaria; in 2019 they accounted\n",
        "for 67% of all malaria deaths worldwide.\n",
        "Traditional diagnosis of malaria in the laboratory requires careful inspection by an experienced\n",
        "professional to discriminate between healthy and infected red blood cells. It is a tedious,\n",
        "time-consuming process, and the diagnostic accuracy (which heavily depends on human expertise)\n",
        "can be adversely impacted by inter-observer variability.\n",
        "An automated system can help with the early and accurate detection of malaria. Applications of\n",
        "automated classification techniques using Machine Learning (ML) and Artificial Intelligence (AI) have\n",
        "consistently shown higher accuracy than manual classification. It would therefore be highly beneficial\n",
        "to propose a method that performs malaria detection using Deep Learning Algorithms.\n",
        "\n",
        "\n",
        "##Objective\n",
        "Build an efficient computer vision model to detect malaria. The model should identify whether the\n",
        "image of a red blood cell is that of one infected with malaria or not, and classify the same as\n",
        "parasitized or uninfected, respectively.\n",
        "##About the dataset\n",
        "There are a total of 24,958 train and 2,600 test images (colored) with an equal number of parasitized\n",
        "and uninfected instances, where:\n",
        "● The parasitized cells contain the Plasmodium parasite\n",
        "● The uninfected cells are free of the Plasmodium parasites but could contain other impurities\n",
        "Note:\n",
        "1. The images in the dataset are not of equal sizes. We will resize the images to 224x224, which\n",
        "is the standard input image size of the majority of pre-trained CNN models.\n",
        "2. These images require some preprocessing before they can be used in Google Colab. The\n",
        "code for the same is given below.\n",
        "\n"
      ]
    },
    {
      "cell_type": "code",
      "metadata": {
        "colab": {
          "base_uri": "https://localhost:8080/"
        },
        "id": "AX3O8P4ecSxJ",
        "outputId": "b8fdb76a-9520-4ec2-f145-2bcc7a1cb35e"
      },
      "source": [
        "#Mounting the drive\n",
        "from google.colab import drive\n",
        "drive.mount('/content/drive')"
      ],
      "execution_count": null,
      "outputs": [
        {
          "output_type": "stream",
          "text": [
            "Mounted at /content/drive\n"
          ],
          "name": "stdout"
        }
      ]
    },
    {
      "cell_type": "markdown",
      "metadata": {
        "id": "k0qmm_9VhKvs"
      },
      "source": [
        "#Code to load the data in Google Colab\n"
      ]
    },
    {
      "cell_type": "code",
      "metadata": {
        "id": "kX5t06l7bsBU"
      },
      "source": [
        "#Importing libraries required to load the data\n",
        "\n",
        "import zipfile\n",
        "\n",
        "import os\n",
        "\n",
        "from PIL import Image\n",
        "\n",
        "import numpy as np"
      ],
      "execution_count": 1,
      "outputs": []
    },
    {
      "cell_type": "code",
      "metadata": {
        "id": "6p0n3MZAb_wr"
      },
      "source": [
        "#Storing the path of the data file from the Google drive\n",
        "path = '/content/drive/MyDrive/Colab Notebooks/Capstone Project/cell_images.zip'\n",
        "\n",
        "#The data is provided as a zip file so we need to extract the files from the zip file\n",
        "with zipfile.ZipFile(path, 'r') as zip_ref:\n",
        "    zip_ref.extractall()"
      ],
      "execution_count": 2,
      "outputs": []
    },
    {
      "cell_type": "code",
      "metadata": {
        "id": "Fs3NKwKXcd2C"
      },
      "source": [
        "#Storing the path of the extracted \"train\" folder \n",
        "train_dir = '/content/cell_images/train'\n",
        "\n",
        "#Size of image so that each image has the same size\n",
        "SIZE = 64\n",
        "\n",
        "#Empty list to store the training images after they are converted to NumPy arrays\n",
        "train_images = []\n",
        "\n",
        "#Empty list to store the training labels (0 - uninfected, 1 - parasitized)\n",
        "train_labels = []"
      ],
      "execution_count": 3,
      "outputs": []
    },
    {
      "cell_type": "code",
      "metadata": {
        "id": "2y31ZPsfc80i"
      },
      "source": [
        "#We will run the same code for \"parasitized\" as well as \"uninfected\" folders within the \"train\" folder\n",
        "for folder_name in ['/parasitized/', '/uninfected/']:\n",
        "    \n",
        "    #Path of the folder\n",
        "    images_path = os.listdir(train_dir + folder_name)\n",
        "\n",
        "    for i, image_name in enumerate(images_path):\n",
        "        try:\n",
        "            #Opening each image using the path of that image\n",
        "            image = Image.open(train_dir + folder_name + image_name)\n",
        "\n",
        "            #Resizing each image to (224,224)\n",
        "            image = image.resize((SIZE, SIZE))\n",
        "\n",
        "            #Converting images to arrays and appending that array to the empty list defined above\n",
        "            train_images.append(np.array(image))\n",
        "\n",
        "            #Creating labels for parasitized and uninfected images\n",
        "            if folder_name=='/parasitized/':\n",
        "                train_labels.append(1)\n",
        "            else:\n",
        "                train_labels.append(0)\n",
        "        except Exception:\n",
        "            pass       \n",
        "\n",
        "#Converting lists to arrays\n",
        "train_images = np.array(train_images)\n",
        "train_labels = np.array(train_labels)"
      ],
      "execution_count": 4,
      "outputs": []
    },
    {
      "cell_type": "code",
      "metadata": {
        "id": "-QlUehfpdEER"
      },
      "source": [
        "#Storing the path of the extracted \"test\" folder \n",
        "test_dir = '/content/cell_images/test'\n",
        "\n",
        "#Size of image so that each image has the same size (it must be same as the train image size)\n",
        "SIZE = 64\n",
        "\n",
        "#Empty list to store the testing images after they are converted to NumPy arrays\n",
        "test_images = []\n",
        "\n",
        "#Empty list to store the testing labels (0 - uninfected, 1 - parasitized)\n",
        "test_labels = []"
      ],
      "execution_count": 5,
      "outputs": []
    },
    {
      "cell_type": "code",
      "metadata": {
        "id": "5KUR-hghdHG6"
      },
      "source": [
        "#We will run the same code for \"parasitized\" as well as \"uninfected\" folders within the \"test\" folder\n",
        "for folder_name in ['/parasitized/', '/uninfected/']:\n",
        "    \n",
        "    #Path of the folder\n",
        "    images_path = os.listdir(test_dir + folder_name)\n",
        "\n",
        "    for i, image_name in enumerate(images_path):\n",
        "        try:\n",
        "            #Opening each image using the path of that image\n",
        "            image = Image.open(test_dir + folder_name + image_name)\n",
        "            \n",
        "            #Resizing each image to (224,224)\n",
        "            image = image.resize((SIZE, SIZE))\n",
        "            \n",
        "            #Converting images to arrays and appending that array to the empty list defined above\n",
        "            test_images.append(np.array(image))\n",
        "            \n",
        "            #Creating labels for parasitized and uninfected images\n",
        "            if folder_name=='/parasitized/':\n",
        "                test_labels.append(1)\n",
        "            else:\n",
        "                test_labels.append(0)\n",
        "        except Exception:\n",
        "            pass       \n",
        "\n",
        "#Converting lists to arrays\n",
        "test_images = np.array(test_images)\n",
        "test_labels = np.array(test_labels)"
      ],
      "execution_count": 6,
      "outputs": []
    },
    {
      "cell_type": "markdown",
      "metadata": {
        "id": "HVmewiuFGZmt"
      },
      "source": [
        "#Import Library Files"
      ]
    },
    {
      "cell_type": "code",
      "metadata": {
        "id": "2zbiumKudz3j"
      },
      "source": [
        "import pandas as pd\n",
        "import matplotlib.pyplot as plt\n",
        "import seaborn as sns\n",
        "\n",
        "from sklearn.model_selection import train_test_split\n",
        "from sklearn.preprocessing import MinMaxScaler\n",
        "\n",
        "import tensorflow as tf\n",
        "from tensorflow.keras.models import Sequential\n",
        "from tensorflow.keras.layers import Dense, Conv2D, MaxPool2D, BatchNormalization, Dropout, Flatten, LeakyReLU\n",
        "from tensorflow.keras.utils import to_categorical"
      ],
      "execution_count": 7,
      "outputs": []
    },
    {
      "cell_type": "code",
      "metadata": {
        "colab": {
          "base_uri": "https://localhost:8080/",
          "height": 0
        },
        "id": "k-e53tlnfFRY",
        "outputId": "a4454092-57b1-49be-b940-89990b227ddd"
      },
      "source": [
        "len(train_images), len(test_images)"
      ],
      "execution_count": 8,
      "outputs": [
        {
          "output_type": "execute_result",
          "data": {
            "text/plain": [
              "(24958, 2600)"
            ]
          },
          "metadata": {
            "tags": []
          },
          "execution_count": 8
        }
      ]
    },
    {
      "cell_type": "code",
      "metadata": {
        "colab": {
          "base_uri": "https://localhost:8080/",
          "height": 0
        },
        "id": "rHgz4nI8elVU",
        "outputId": "85f429ae-30a6-4647-c74e-e156fa453857"
      },
      "source": [
        "len(train_labels), len(test_labels)"
      ],
      "execution_count": 9,
      "outputs": [
        {
          "output_type": "execute_result",
          "data": {
            "text/plain": [
              "(24958, 2600)"
            ]
          },
          "metadata": {
            "tags": []
          },
          "execution_count": 9
        }
      ]
    },
    {
      "cell_type": "code",
      "metadata": {
        "colab": {
          "base_uri": "https://localhost:8080/",
          "height": 95
        },
        "id": "_46E6-BRe3VS",
        "outputId": "2b7acb7e-a50a-4b75-fd17-74dedc864791"
      },
      "source": [
        "# visualizing the first 10 images in the train dataset and their labels\n",
        "plt.figure(figsize=(10, 1))\n",
        "\n",
        "for i in range(10):\n",
        "    plt.subplot(1, 10, i+1)\n",
        "    plt.imshow(train_images[i], cmap=\"gray\") \n",
        "    plt.axis('off')\n",
        "\n",
        "plt.show()\n",
        "print('label for each of the above image: %s' % (train_labels[0:10]))"
      ],
      "execution_count": 10,
      "outputs": [
        {
          "output_type": "display_data",
          "data": {
            "image/png": "[encoded data removed]",
            "text/plain": [
              "<Figure size 720x72 with 10 Axes>"
            ]
          },
          "metadata": {
            "tags": [],
            "needs_background": "light"
          }
        },
        {
          "output_type": "stream",
          "text": [
            "label for each of the above image: [1 1 1 1 1 1 1 1 1 1]\n"
          ],
          "name": "stdout"
        }
      ]
    },
    {
      "cell_type": "code",
      "metadata": {
        "colab": {
          "base_uri": "https://localhost:8080/",
          "height": 95
        },
        "id": "pNlqjJCFfj_a",
        "outputId": "8c50cd8e-0f28-4e3e-8d34-a76b3f143f40"
      },
      "source": [
        "# visualizing the first 10 images in the test dataset and their labels\n",
        "plt.figure(figsize=(10, 1))\n",
        "\n",
        "for i in range(10):\n",
        "    plt.subplot(1, 10, i+1)\n",
        "    plt.imshow(test_images[i], cmap=\"gray\")\n",
        "    plt.axis('off')\n",
        "\n",
        "plt.show()\n",
        "print('label for each of the above image: %s' % (test_labels[0:10]))"
      ],
      "execution_count": 11,
      "outputs": [
        {
          "output_type": "display_data",
          "data": {
            "image/png": "[encoded data removed]",
            "text/plain": [
              "<Figure size 720x72 with 10 Axes>"
            ]
          },
          "metadata": {
            "tags": [],
            "needs_background": "light"
          }
        },
        {
          "output_type": "stream",
          "text": [
            "label for each of the above image: [1 1 1 1 1 1 1 1 1 1]\n"
          ],
          "name": "stdout"
        }
      ]
    },
    {
      "cell_type": "markdown",
      "metadata": {
        "id": "HmJLLYcWgWcV"
      },
      "source": [
        "#Data Preparation"
      ]
    },
    {
      "cell_type": "code",
      "metadata": {
        "colab": {
          "base_uri": "https://localhost:8080/",
          "height": 0
        },
        "id": "6q9U-vzFgUX3",
        "outputId": "2ae37d42-034b-4309-876b-fda88ef1db95"
      },
      "source": [
        "# Shape of the images and the first image\n",
        "\n",
        "print(\"Shape:\", train_images[0].shape)\n",
        "print()\n",
        "print(\"First image:\\n\", train_images[0])"
      ],
      "execution_count": 12,
      "outputs": [
        {
          "output_type": "stream",
          "text": [
            "Shape: (64, 64, 3)\n",
            "\n",
            "First image:\n",
            " [[[0 0 0]\n",
            "  [0 0 0]\n",
            "  [0 0 0]\n",
            "  ...\n",
            "  [0 0 0]\n",
            "  [0 0 0]\n",
            "  [0 0 0]]\n",
            "\n",
            " [[0 0 0]\n",
            "  [0 0 0]\n",
            "  [0 0 0]\n",
            "  ...\n",
            "  [0 0 0]\n",
            "  [0 0 0]\n",
            "  [0 0 0]]\n",
            "\n",
            " [[0 0 0]\n",
            "  [0 0 0]\n",
            "  [0 0 0]\n",
            "  ...\n",
            "  [0 0 0]\n",
            "  [0 0 0]\n",
            "  [0 0 0]]\n",
            "\n",
            " ...\n",
            "\n",
            " [[0 0 0]\n",
            "  [0 0 0]\n",
            "  [0 0 0]\n",
            "  ...\n",
            "  [0 0 0]\n",
            "  [0 0 0]\n",
            "  [0 0 0]]\n",
            "\n",
            " [[0 0 0]\n",
            "  [0 0 0]\n",
            "  [0 0 0]\n",
            "  ...\n",
            "  [0 0 0]\n",
            "  [0 0 0]\n",
            "  [0 0 0]]\n",
            "\n",
            " [[0 0 0]\n",
            "  [0 0 0]\n",
            "  [0 0 0]\n",
            "  ...\n",
            "  [0 0 0]\n",
            "  [0 0 0]\n",
            "  [0 0 0]]]\n"
          ],
          "name": "stdout"
        }
      ]
    },
    {
      "cell_type": "code",
      "metadata": {
        "id": "6nKNce6viT3n"
      },
      "source": [
        "train_copy = train_images\n",
        "test_copy = test_images"
      ],
      "execution_count": 63,
      "outputs": []
    },
    {
      "cell_type": "code",
      "metadata": {
        "id": "HkT5vVtHfwN7"
      },
      "source": [
        "# Reshaping the dataset to flatten them. Remember that we always have to give a 4D array as input to CNNs\n",
        "\n",
        "train_copy = train_copy.reshape(train_copy.shape[0], 64,64,3)\n",
        "test_copy = test_copy.reshape(test_copy.shape[0], 64,64,3)"
      ],
      "execution_count": 74,
      "outputs": []
    },
    {
      "cell_type": "code",
      "metadata": {
        "id": "a-zILeaLjN9M"
      },
      "source": [
        "# Normalize inputs from 0-255 to 0-1\n",
        "\n",
        "train_copy= train_copy / 255.0\n",
        "test_copy = test_copy / 255.0"
      ],
      "execution_count": 75,
      "outputs": []
    },
    {
      "cell_type": "code",
      "metadata": {
        "colab": {
          "base_uri": "https://localhost:8080/",
          "height": 0
        },
        "id": "Pv8rmExJnWUd",
        "outputId": "8749aaea-f6fb-487a-9456-34209cc91229"
      },
      "source": [
        "# New shape \n",
        "\n",
        "print('Training set:', train_copy.shape, train_labels.shape)\n",
        "print('Test set:', test_copy.shape, test_labels.shape)"
      ],
      "execution_count": 76,
      "outputs": [
        {
          "output_type": "stream",
          "text": [
            "Training set: (24958, 64, 64, 3) (24958,)\n",
            "Test set: (2600, 64, 64, 3) (2600,)\n"
          ],
          "name": "stdout"
        }
      ]
    },
    {
      "cell_type": "code",
      "metadata": {
        "colab": {
          "base_uri": "https://localhost:8080/",
          "height": 0
        },
        "id": "eP1bUBiMn1NG",
        "outputId": "7af78921-3901-456c-9b6d-ef2554d88248"
      },
      "source": [
        "#Write the function and appropriate variable name to one-hot encode the output\n",
        "\n",
        "train_labels_ohe = tf.keras.utils.to_categorical(train_labels)\n",
        "test_labels_ohe = tf.keras.utils.to_categorical(test_labels)\n",
        "\n",
        "#test labels\n",
        "test_labels_ohe"
      ],
      "execution_count": 77,
      "outputs": [
        {
          "output_type": "execute_result",
          "data": {
            "text/plain": [
              "array([[0., 1.],\n",
              "       [0., 1.],\n",
              "       [0., 1.],\n",
              "       ...,\n",
              "       [1., 0.],\n",
              "       [1., 0.],\n",
              "       [1., 0.]], dtype=float32)"
            ]
          },
          "metadata": {
            "tags": []
          },
          "execution_count": 77
        }
      ]
    },
    {
      "cell_type": "markdown",
      "metadata": {
        "id": "-Kr_YS2VoeVI"
      },
      "source": [
        "#Model Building"
      ]
    },
    {
      "cell_type": "code",
      "metadata": {
        "id": "I-CKaOsfoNrb"
      },
      "source": [
        "#Fixing the seed for random number generators\n",
        "np.random.seed(42)\n",
        "import random\n",
        "random.seed(42)\n",
        "tf.random.set_seed(42)"
      ],
      "execution_count": 78,
      "outputs": []
    },
    {
      "cell_type": "code",
      "metadata": {
        "id": "7jWzHicNoqqP"
      },
      "source": [
        "#Importing losses and optimizers modules\n",
        "from tensorflow.keras import losses\n",
        "from tensorflow.keras import optimizers\n",
        "\n",
        "#Define the function\n",
        "def cnn_model_1():\n",
        "    model = Sequential() \n",
        "    #Add layers as per the architecture mentioned above in the same sequence\n",
        "    model.add(Conv2D(filters=16, kernel_size=(3, 3), padding='same', input_shape = (64,64,3)))\n",
        "    model.add(LeakyReLU(0.1))\n",
        "    model.add(Conv2D(filters=32, kernel_size=(3, 3), padding='same'))\n",
        "    model.add(LeakyReLU(0.1))\n",
        "    model.add(MaxPool2D(pool_size=(2,2)))\n",
        "\n",
        "    model.add(Flatten())\n",
        "    model.add(Dense(32))\n",
        "    model.add(LeakyReLU(0.1))\n",
        "    model.add(Dense(2, activation='softmax'))\n",
        "    #declare adam optimizer with learning rate of 0.001 \n",
        "    adam = optimizers.Adam(0.001)\n",
        "    \n",
        "    #compile the model\n",
        "    model.compile(loss = 'categorical_crossentropy', optimizer= adam, metrics =['accuracy'])\n",
        "    \n",
        "    return model"
      ],
      "execution_count": 79,
      "outputs": []
    },
    {
      "cell_type": "code",
      "metadata": {
        "id": "4lgrwHCPpoGe"
      },
      "source": [
        "#Build the model\n",
        "model_1 = cnn_model_1()"
      ],
      "execution_count": 80,
      "outputs": []
    },
    {
      "cell_type": "code",
      "metadata": {
        "colab": {
          "base_uri": "https://localhost:8080/",
          "height": 0
        },
        "id": "XYQ2asaYpooK",
        "outputId": "dc8e91fe-60f9-408f-adc4-90c493b51e3b"
      },
      "source": [
        "#Print the model summary\n",
        "model_1.summary()"
      ],
      "execution_count": 81,
      "outputs": [
        {
          "output_type": "stream",
          "text": [
            "Model: \"sequential_8\"\n",
            "_________________________________________________________________\n",
            "Layer (type)                 Output Shape              Param #   \n",
            "=================================================================\n",
            "conv2d_15 (Conv2D)           (None, 64, 64, 16)        448       \n",
            "_________________________________________________________________\n",
            "leaky_re_lu_20 (LeakyReLU)   (None, 64, 64, 16)        0         \n",
            "_________________________________________________________________\n",
            "conv2d_16 (Conv2D)           (None, 64, 64, 32)        4640      \n",
            "_________________________________________________________________\n",
            "leaky_re_lu_21 (LeakyReLU)   (None, 64, 64, 32)        0         \n",
            "_________________________________________________________________\n",
            "max_pooling2d_7 (MaxPooling2 (None, 32, 32, 32)        0         \n",
            "_________________________________________________________________\n",
            "flatten_6 (Flatten)          (None, 32768)             0         \n",
            "_________________________________________________________________\n",
            "dense_12 (Dense)             (None, 32)                1048608   \n",
            "_________________________________________________________________\n",
            "leaky_re_lu_22 (LeakyReLU)   (None, 32)                0         \n",
            "_________________________________________________________________\n",
            "dense_13 (Dense)             (None, 2)                 66        \n",
            "=================================================================\n",
            "Total params: 1,053,762\n",
            "Trainable params: 1,053,762\n",
            "Non-trainable params: 0\n",
            "_________________________________________________________________\n"
          ],
          "name": "stdout"
        }
      ]
    },
    {
      "cell_type": "code",
      "metadata": {
        "colab": {
          "base_uri": "https://localhost:8080/",
          "height": 0
        },
        "id": "DIpoRyPPpujy",
        "outputId": "4f68b0cb-b80d-4d3a-cdc8-62e4ac1d43b9"
      },
      "source": [
        "# Fit the model\n",
        "history_model_1 = model_1.fit(train_copy, train_labels_ohe, validation_split=0.2, batch_size=32, verbose=1, epochs=20)"
      ],
      "execution_count": 82,
      "outputs": [
        {
          "output_type": "stream",
          "text": [
            "Epoch 1/20\n",
            "624/624 [==============================] - 146s 233ms/step - loss: 0.6639 - accuracy: 0.6248 - val_loss: 0.9480 - val_accuracy: 0.0000e+00\n",
            "Epoch 2/20\n",
            "624/624 [==============================] - 143s 229ms/step - loss: 0.6458 - accuracy: 0.6351 - val_loss: 1.5320 - val_accuracy: 0.0144\n",
            "Epoch 3/20\n",
            "624/624 [==============================] - 144s 231ms/step - loss: 0.6114 - accuracy: 0.6713 - val_loss: 1.0013 - val_accuracy: 0.2939\n",
            "Epoch 4/20\n",
            "624/624 [==============================] - 144s 231ms/step - loss: 0.5838 - accuracy: 0.6943 - val_loss: 0.8552 - val_accuracy: 0.3948\n",
            "Epoch 5/20\n",
            "624/624 [==============================] - 145s 233ms/step - loss: 0.5648 - accuracy: 0.7087 - val_loss: 1.0549 - val_accuracy: 0.3103\n",
            "Epoch 6/20\n",
            "624/624 [==============================] - 145s 233ms/step - loss: 0.5611 - accuracy: 0.7160 - val_loss: 0.8156 - val_accuracy: 0.4740\n",
            "Epoch 7/20\n",
            "624/624 [==============================] - 146s 234ms/step - loss: 0.5461 - accuracy: 0.7247 - val_loss: 0.9199 - val_accuracy: 0.4209\n",
            "Epoch 8/20\n",
            "624/624 [==============================] - 146s 234ms/step - loss: 0.5340 - accuracy: 0.7333 - val_loss: 0.4611 - val_accuracy: 0.7927\n",
            "Epoch 9/20\n",
            "624/624 [==============================] - 145s 232ms/step - loss: 0.5060 - accuracy: 0.7542 - val_loss: 0.7204 - val_accuracy: 0.5897\n",
            "Epoch 10/20\n",
            "624/624 [==============================] - 143s 230ms/step - loss: 0.4902 - accuracy: 0.7616 - val_loss: 0.5320 - val_accuracy: 0.7516\n",
            "Epoch 11/20\n",
            "624/624 [==============================] - 144s 231ms/step - loss: 0.4670 - accuracy: 0.7763 - val_loss: 0.7364 - val_accuracy: 0.5741\n",
            "Epoch 12/20\n",
            "624/624 [==============================] - 146s 234ms/step - loss: 0.4455 - accuracy: 0.7906 - val_loss: 0.7057 - val_accuracy: 0.6392\n",
            "Epoch 13/20\n",
            "624/624 [==============================] - ETA: 0s - loss: 0.4227 - accuracy: 0.8050Epoch 14/20\n",
            "624/624 [==============================] - 145s 233ms/step - loss: 0.4137 - accuracy: 0.8095 - val_loss: 0.6146 - val_accuracy: 0.6867\n",
            "Epoch 15/20\n",
            "624/624 [==============================] - 145s 232ms/step - loss: 0.3872 - accuracy: 0.8263 - val_loss: 0.5299 - val_accuracy: 0.7468\n",
            "Epoch 16/20\n",
            "624/624 [==============================] - 146s 234ms/step - loss: 0.3770 - accuracy: 0.8309 - val_loss: 0.8126 - val_accuracy: 0.6076\n",
            "Epoch 17/20\n",
            "624/624 [==============================] - 144s 232ms/step - loss: 0.3598 - accuracy: 0.8406 - val_loss: 0.5929 - val_accuracy: 0.6963\n",
            "Epoch 18/20\n",
            "624/624 [==============================] - 145s 233ms/step - loss: 0.3223 - accuracy: 0.8636 - val_loss: 0.4520 - val_accuracy: 0.8343\n",
            "Epoch 19/20\n",
            "624/624 [==============================] - 145s 232ms/step - loss: 0.2831 - accuracy: 0.8830 - val_loss: 0.4261 - val_accuracy: 0.7935\n",
            "Epoch 20/20\n",
            "624/624 [==============================] - 146s 234ms/step - loss: 0.2532 - accuracy: 0.9012 - val_loss: 0.4070 - val_accuracy: 0.8464\n"
          ],
          "name": "stdout"
        }
      ]
    },
    {
      "cell_type": "code",
      "metadata": {
        "colab": {
          "base_uri": "https://localhost:8080/",
          "height": 497
        },
        "id": "ZKAyXYr9WlC_",
        "outputId": "21a67f91-16e7-4711-8b75-5a602d9b2a7e"
      },
      "source": [
        "# plotting the accuracies\n",
        "\n",
        "dict_hist = history_model_1.history\n",
        "list_ep = [i for i in range(1,21)]\n",
        "\n",
        "plt.figure(figsize = (8,8))\n",
        "plt.plot(list_ep,dict_hist['accuracy'],ls = '--', label = 'accuracy')\n",
        "plt.plot(list_ep,dict_hist['val_accuracy'],ls = '--', label = 'val_accuracy')\n",
        "plt.ylabel('Accuracy')\n",
        "plt.xlabel('Epochs')\n",
        "plt.legend()\n",
        "plt.show()"
      ],
      "execution_count": 83,
      "outputs": [
        {
          "output_type": "display_data",
          "data": {
            "image/png": "[encoded data removed]",
            "text/plain": [
              "<Figure size 576x576 with 1 Axes>"
            ]
          },
          "metadata": {
            "tags": [],
            "needs_background": "light"
          }
        }
      ]
    }
  ]
}