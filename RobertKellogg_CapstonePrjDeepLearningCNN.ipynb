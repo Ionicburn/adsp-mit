{
  "nbformat": 4,
  "nbformat_minor": 0,
  "metadata": {
    "colab": {
      "name": "RobertKellogg_CapstonePrjDeepLearningCNN.ipynb",
      "provenance": [],
      "collapsed_sections": [],
      "machine_shape": "hm",
      "mount_file_id": "1Xy1NxyBGLtahYgkMu38pTMUNx79orajn",
      "authorship_tag": "ABX9TyM/bB8+Saz9qZwO14+BUoNJ",
      "include_colab_link": true
    },
    "kernelspec": {
      "name": "python3",
      "display_name": "Python 3"
    },
    "language_info": {
      "name": "python"
    },
    "accelerator": "TPU"
  },
  "cells": [
    {
      "cell_type": "markdown",
      "metadata": {
        "id": "view-in-github",
        "colab_type": "text"
      },
      "source": [
        "<a href=\"https://colab.research.google.com/github/Ionicburn/adsp-mit/blob/main/RobertKellogg_CapstonePrjDeepLearningCNN.ipynb\" target=\"_parent\"><img src=\"https://colab.research.google.com/assets/colab-badge.svg\" alt=\"Open In Colab\"/></a>"
      ]
    },
    {
      "cell_type": "markdown",
      "metadata": {
        "id": "8mLHbsNTgggn"
      },
      "source": [
        "#Capstone Project - Malaria Detection\n",
        "##Context\n",
        "Malaria is a contagious disease caused by Plasmodium parasites that are transmitted to humans\n",
        "through the bites of infected female Anopheles mosquitoes. The parasites enter the blood and begin\n",
        "damaging red blood cells (RBCs) that carry oxygen, which can result in respiratory distress and other\n",
        "complications. The lethal parasites can stay alive for more than a year in a person’s body without\n",
        "showing any symptoms. Therefore, late treatment can cause complications and could even be fatal.\n",
        "Almost 50% of the world’s population is in danger from malaria. There were more than 229 million\n",
        "malaria cases and 400,000 malaria-related deaths reported over the world in 2019. Children under 5\n",
        "years of age are the most vulnerable population group affected by malaria; in 2019 they accounted\n",
        "for 67% of all malaria deaths worldwide.\n",
        "Traditional diagnosis of malaria in the laboratory requires careful inspection by an experienced\n",
        "professional to discriminate between healthy and infected red blood cells. It is a tedious,\n",
        "time-consuming process, and the diagnostic accuracy (which heavily depends on human expertise)\n",
        "can be adversely impacted by inter-observer variability.\n",
        "An automated system can help with the early and accurate detection of malaria. Applications of\n",
        "automated classification techniques using Machine Learning (ML) and Artificial Intelligence (AI) have\n",
        "consistently shown higher accuracy than manual classification. It would therefore be highly beneficial\n",
        "to propose a method that performs malaria detection using Deep Learning Algorithms.\n",
        "\n",
        "\n",
        "##Objective\n",
        "Build an efficient computer vision model to detect malaria. The model should identify whether the\n",
        "image of a red blood cell is that of one infected with malaria or not, and classify the same as\n",
        "parasitized or uninfected, respectively.\n",
        "##About the dataset\n",
        "There are a total of 24,958 train and 2,600 test images (colored) with an equal number of parasitized\n",
        "and uninfected instances, where:\n",
        "● The parasitized cells contain the Plasmodium parasite\n",
        "● The uninfected cells are free of the Plasmodium parasites but could contain other impurities\n",
        "Note:\n",
        "1. The images in the dataset are not of equal sizes. We will resize the images to 224x224, which\n",
        "is the standard input image size of the majority of pre-trained CNN models.\n",
        "2. These images require some preprocessing before they can be used in Google Colab. The\n",
        "code for the same is given below.\n",
        "\n"
      ]
    },
    {
      "cell_type": "code",
      "metadata": {
        "colab": {
          "base_uri": "https://localhost:8080/"
        },
        "id": "AX3O8P4ecSxJ",
        "outputId": "b8fdb76a-9520-4ec2-f145-2bcc7a1cb35e"
      },
      "source": [
        "#Mounting the drive\n",
        "from google.colab import drive\n",
        "drive.mount('/content/drive')"
      ],
      "execution_count": null,
      "outputs": [
        {
          "output_type": "stream",
          "text": [
            "Mounted at /content/drive\n"
          ],
          "name": "stdout"
        }
      ]
    },
    {
      "cell_type": "markdown",
      "metadata": {
        "id": "k0qmm_9VhKvs"
      },
      "source": [
        "#Code to load the data in Google Colab\n"
      ]
    },
    {
      "cell_type": "code",
      "metadata": {
        "id": "kX5t06l7bsBU"
      },
      "source": [
        "#Importing libraries required to load the data\n",
        "\n",
        "import zipfile\n",
        "\n",
        "import os\n",
        "\n",
        "from PIL import Image\n",
        "\n",
        "import numpy as np"
      ],
      "execution_count": 1,
      "outputs": []
    },
    {
      "cell_type": "code",
      "metadata": {
        "id": "6p0n3MZAb_wr"
      },
      "source": [
        "#Storing the path of the data file from the Google drive\n",
        "path = '/content/drive/MyDrive/Colab Notebooks/Capstone Project/cell_images.zip'\n",
        "\n",
        "#The data is provided as a zip file so we need to extract the files from the zip file\n",
        "with zipfile.ZipFile(path, 'r') as zip_ref:\n",
        "    zip_ref.extractall()"
      ],
      "execution_count": 2,
      "outputs": []
    },
    {
      "cell_type": "code",
      "metadata": {
        "id": "Fs3NKwKXcd2C"
      },
      "source": [
        "#Storing the path of the extracted \"train\" folder \n",
        "train_dir = '/content/cell_images/train'\n",
        "\n",
        "#Size of image so that each image has the same size\n",
        "SIZE = 64\n",
        "\n",
        "#Empty list to store the training images after they are converted to NumPy arrays\n",
        "train_images = []\n",
        "\n",
        "#Empty list to store the training labels (0 - uninfected, 1 - parasitized)\n",
        "train_labels = []"
      ],
      "execution_count": 3,
      "outputs": []
    },
    {
      "cell_type": "code",
      "metadata": {
        "id": "2y31ZPsfc80i"
      },
      "source": [
        "#We will run the same code for \"parasitized\" as well as \"uninfected\" folders within the \"train\" folder\n",
        "for folder_name in ['/parasitized/', '/uninfected/']:\n",
        "    \n",
        "    #Path of the folder\n",
        "    images_path = os.listdir(train_dir + folder_name)\n",
        "\n",
        "    for i, image_name in enumerate(images_path):\n",
        "        try:\n",
        "            #Opening each image using the path of that image\n",
        "            image = Image.open(train_dir + folder_name + image_name)\n",
        "\n",
        "            #Resizing each image to (224,224)\n",
        "            image = image.resize((SIZE, SIZE))\n",
        "\n",
        "            #Converting images to arrays and appending that array to the empty list defined above\n",
        "            train_images.append(np.array(image))\n",
        "\n",
        "            #Creating labels for parasitized and uninfected images\n",
        "            if folder_name=='/parasitized/':\n",
        "                train_labels.append(1)\n",
        "            else:\n",
        "                train_labels.append(0)\n",
        "        except Exception:\n",
        "            pass       \n",
        "\n",
        "#Converting lists to arrays\n",
        "train_images = np.array(train_images)\n",
        "train_labels = np.array(train_labels)"
      ],
      "execution_count": 4,
      "outputs": []
    },
    {
      "cell_type": "code",
      "metadata": {
        "id": "-QlUehfpdEER"
      },
      "source": [
        "#Storing the path of the extracted \"test\" folder \n",
        "test_dir = '/content/cell_images/test'\n",
        "\n",
        "#Size of image so that each image has the same size (it must be same as the train image size)\n",
        "SIZE = 64\n",
        "\n",
        "#Empty list to store the testing images after they are converted to NumPy arrays\n",
        "test_images = []\n",
        "\n",
        "#Empty list to store the testing labels (0 - uninfected, 1 - parasitized)\n",
        "test_labels = []"
      ],
      "execution_count": 5,
      "outputs": []
    },
    {
      "cell_type": "code",
      "metadata": {
        "id": "5KUR-hghdHG6"
      },
      "source": [
        "#We will run the same code for \"parasitized\" as well as \"uninfected\" folders within the \"test\" folder\n",
        "for folder_name in ['/parasitized/', '/uninfected/']:\n",
        "    \n",
        "    #Path of the folder\n",
        "    images_path = os.listdir(test_dir + folder_name)\n",
        "\n",
        "    for i, image_name in enumerate(images_path):\n",
        "        try:\n",
        "            #Opening each image using the path of that image\n",
        "            image = Image.open(test_dir + folder_name + image_name)\n",
        "            \n",
        "            #Resizing each image to (224,224)\n",
        "            image = image.resize((SIZE, SIZE))\n",
        "            \n",
        "            #Converting images to arrays and appending that array to the empty list defined above\n",
        "            test_images.append(np.array(image))\n",
        "            \n",
        "            #Creating labels for parasitized and uninfected images\n",
        "            if folder_name=='/parasitized/':\n",
        "                test_labels.append(1)\n",
        "            else:\n",
        "                test_labels.append(0)\n",
        "        except Exception:\n",
        "            pass       \n",
        "\n",
        "#Converting lists to arrays\n",
        "test_images = np.array(test_images)\n",
        "test_labels = np.array(test_labels)"
      ],
      "execution_count": 6,
      "outputs": []
    },
    {
      "cell_type": "markdown",
      "metadata": {
        "id": "HVmewiuFGZmt"
      },
      "source": [
        "#Import Library Files"
      ]
    },
    {
      "cell_type": "code",
      "metadata": {
        "id": "2zbiumKudz3j"
      },
      "source": [
        "import pandas as pd\n",
        "import matplotlib.pyplot as plt\n",
        "import seaborn as sns\n",
        "\n",
        "from sklearn.model_selection import train_test_split\n",
        "from sklearn.preprocessing import MinMaxScaler\n",
        "\n",
        "import tensorflow as tf\n",
        "from tensorflow.keras.models import Sequential\n",
        "from tensorflow.keras.layers import Dense, Conv2D, MaxPool2D, BatchNormalization, Dropout, Flatten, LeakyReLU\n",
        "from tensorflow.keras.utils import to_categorical"
      ],
      "execution_count": 7,
      "outputs": []
    },
    {
      "cell_type": "code",
      "metadata": {
        "colab": {
          "base_uri": "https://localhost:8080/"
        },
        "id": "k-e53tlnfFRY",
        "outputId": "16bf6970-9f15-4a49-be5d-45bacae9d2c1"
      },
      "source": [
        "len(train_images), len(test_images)"
      ],
      "execution_count": 8,
      "outputs": [
        {
          "output_type": "execute_result",
          "data": {
            "text/plain": [
              "(24958, 2600)"
            ]
          },
          "metadata": {
            "tags": []
          },
          "execution_count": 8
        }
      ]
    },
    {
      "cell_type": "code",
      "metadata": {
        "colab": {
          "base_uri": "https://localhost:8080/"
        },
        "id": "rHgz4nI8elVU",
        "outputId": "b0b5e1b9-497d-4583-a8ec-cbcc540e5798"
      },
      "source": [
        "len(train_labels), len(test_labels)"
      ],
      "execution_count": 9,
      "outputs": [
        {
          "output_type": "execute_result",
          "data": {
            "text/plain": [
              "(24958, 2600)"
            ]
          },
          "metadata": {
            "tags": []
          },
          "execution_count": 9
        }
      ]
    },
    {
      "cell_type": "code",
      "metadata": {
        "colab": {
          "base_uri": "https://localhost:8080/",
          "height": 95
        },
        "id": "_46E6-BRe3VS",
        "outputId": "dbf7f6be-515b-472d-a856-c6065e85a335"
      },
      "source": [
        "# visualizing the first 10 images in the train dataset and their labels\n",
        "plt.figure(figsize=(10, 1))\n",
        "\n",
        "for i in range(10):\n",
        "    plt.subplot(1, 10, i+1)\n",
        "    plt.imshow(train_images[i], cmap=\"gray\") \n",
        "    plt.axis('off')\n",
        "\n",
        "plt.show()\n",
        "print('label for each of the above image: %s' % (train_labels[0:10]))"
      ],
      "execution_count": 10,
      "outputs": [
        {
          "output_type": "display_data",
          "data": {
            "image/png": "[encoded data removed]",
            "text/plain": [
              "<Figure size 720x72 with 10 Axes>"
            ]
          },
          "metadata": {
            "tags": [],
            "needs_background": "light"
          }
        },
        {
          "output_type": "stream",
          "text": [
            "label for each of the above image: [1 1 1 1 1 1 1 1 1 1]\n"
          ],
          "name": "stdout"
        }
      ]
    },
    {
      "cell_type": "code",
      "metadata": {
        "colab": {
          "base_uri": "https://localhost:8080/",
          "height": 95
        },
        "id": "pNlqjJCFfj_a",
        "outputId": "c4c8d09a-b32b-48f6-89df-05d3899e8c0c"
      },
      "source": [
        "# visualizing the first 10 images in the test dataset and their labels\n",
        "plt.figure(figsize=(10, 1))\n",
        "\n",
        "for i in range(10):\n",
        "    plt.subplot(1, 10, i+1)\n",
        "    plt.imshow(test_images[i], cmap=\"gray\")\n",
        "    plt.axis('off')\n",
        "\n",
        "plt.show()\n",
        "print('label for each of the above image: %s' % (test_labels[0:10]))"
      ],
      "execution_count": 11,
      "outputs": [
        {
          "output_type": "display_data",
          "data": {
            "image/png": "[encoded data removed]",
            "text/plain": [
              "<Figure size 720x72 with 10 Axes>"
            ]
          },
          "metadata": {
            "tags": [],
            "needs_background": "light"
          }
        },
        {
          "output_type": "stream",
          "text": [
            "label for each of the above image: [1 1 1 1 1 1 1 1 1 1]\n"
          ],
          "name": "stdout"
        }
      ]
    },
    {
      "cell_type": "code",
      "metadata": {
        "colab": {
          "base_uri": "https://localhost:8080/"
        },
        "id": "wrwrNwDr6IFO",
        "outputId": "c67d6c9c-4431-4a47-e3d6-90b08c07939e"
      },
      "source": [
        "# Check the split of 0 and 1 in train_labels \n",
        "a = train_labels\n",
        "unique, counts = np.unique(a, return_counts=True)\n",
        "dict(zip(unique, counts))"
      ],
      "execution_count": 48,
      "outputs": [
        {
          "output_type": "execute_result",
          "data": {
            "text/plain": [
              "{0: 12479, 1: 12479}"
            ]
          },
          "metadata": {
            "tags": []
          },
          "execution_count": 48
        }
      ]
    },
    {
      "cell_type": "code",
      "metadata": {
        "colab": {
          "base_uri": "https://localhost:8080/"
        },
        "id": "fMz9Dk1t6e8c",
        "outputId": "3af3b3cd-c341-485a-8532-a20163aeaf68"
      },
      "source": [
        "# Check the split of 0 and 1 in train_labels \n",
        "a = test_labels\n",
        "unique, counts = np.unique(a, return_counts=True)\n",
        "dict(zip(unique, counts))"
      ],
      "execution_count": 49,
      "outputs": [
        {
          "output_type": "execute_result",
          "data": {
            "text/plain": [
              "{0: 1300, 1: 1300}"
            ]
          },
          "metadata": {
            "tags": []
          },
          "execution_count": 49
        }
      ]
    },
    {
      "cell_type": "code",
      "metadata": {
        "colab": {
          "base_uri": "https://localhost:8080/",
          "height": 281
        },
        "id": "hhsB6CQZ2a5b",
        "outputId": "8a3908a5-4d66-41ac-8850-384330c68626"
      },
      "source": [
        "a = train_labels\n",
        "plt.hist(a) \n",
        "plt.title(\"histogram\") \n",
        "plt.show()"
      ],
      "execution_count": 44,
      "outputs": [
        {
          "output_type": "display_data",
          "data": {
            "image/png": "[encoded data removed]",
            "text/plain": [
              "<Figure size 432x288 with 1 Axes>"
            ]
          },
          "metadata": {
            "tags": [],
            "needs_background": "light"
          }
        }
      ]
    },
    {
      "cell_type": "code",
      "metadata": {
        "colab": {
          "base_uri": "https://localhost:8080/",
          "height": 281
        },
        "id": "gOtaf-rE3pW8",
        "outputId": "1159c63e-9039-40fe-d074-e1548307cf9f"
      },
      "source": [
        "a = test_labels\n",
        "plt.hist(a) \n",
        "plt.title(\"histogram\") \n",
        "plt.show()"
      ],
      "execution_count": 41,
      "outputs": [
        {
          "output_type": "display_data",
          "data": {
            "image/png": "[encoded data removed]",
            "text/plain": [
              "<Figure size 432x288 with 1 Axes>"
            ]
          },
          "metadata": {
            "tags": [],
            "needs_background": "light"
          }
        }
      ]
    },
    {
      "cell_type": "code",
      "metadata": {
        "id": "nmmhg4a81Di6"
      },
      "source": [
        "def class_distribution(dataset):\n",
        "    #dataset = numpy.asarray(dataset)\n",
        "    dataset = dataset\n",
        "\n",
        "    num_total_rows = dataset.shape[0]\n",
        "    num_columns = dataset.shape[1]\n",
        "    classes = dataset[:,num_columns-1]\n",
        "    classes = numpy.unique(classes)\n",
        "\n",
        "    for aclass in classes:\n",
        "        total = 0\n",
        "        for row in dataset:\n",
        "            if numpy.array_equal(aclass, row[-1]):\n",
        "                total = total + 1\n",
        "            else:\n",
        "                continue\n",
        "        print(aclass, \" Has: \", ((total/num_total_rows) * 100))\n",
        "        print(aclass, \" : \", total)"
      ],
      "execution_count": 26,
      "outputs": []
    },
    {
      "cell_type": "markdown",
      "metadata": {
        "id": "HmJLLYcWgWcV"
      },
      "source": [
        "#Data Preparation"
      ]
    },
    {
      "cell_type": "code",
      "metadata": {
        "colab": {
          "base_uri": "https://localhost:8080/"
        },
        "id": "6q9U-vzFgUX3",
        "outputId": "6fa832a6-7dc8-46cf-c640-4d60bc7a3ba1"
      },
      "source": [
        "# Shape of the images and the first image\n",
        "\n",
        "print(\"Shape:\", train_images[0].shape)\n",
        "print()\n",
        "print(\"First image:\\n\", train_images[0])"
      ],
      "execution_count": 12,
      "outputs": [
        {
          "output_type": "stream",
          "text": [
            "Shape: (64, 64, 3)\n",
            "\n",
            "First image:\n",
            " [[[0 0 0]\n",
            "  [0 0 0]\n",
            "  [0 0 0]\n",
            "  ...\n",
            "  [0 0 0]\n",
            "  [0 0 0]\n",
            "  [0 0 0]]\n",
            "\n",
            " [[0 0 0]\n",
            "  [0 0 0]\n",
            "  [0 0 0]\n",
            "  ...\n",
            "  [0 0 0]\n",
            "  [0 0 0]\n",
            "  [0 0 0]]\n",
            "\n",
            " [[0 0 0]\n",
            "  [0 0 0]\n",
            "  [0 0 0]\n",
            "  ...\n",
            "  [0 0 0]\n",
            "  [0 0 0]\n",
            "  [0 0 0]]\n",
            "\n",
            " ...\n",
            "\n",
            " [[0 0 0]\n",
            "  [0 0 0]\n",
            "  [0 0 0]\n",
            "  ...\n",
            "  [0 0 0]\n",
            "  [0 0 0]\n",
            "  [0 0 0]]\n",
            "\n",
            " [[0 0 0]\n",
            "  [0 0 0]\n",
            "  [0 0 0]\n",
            "  ...\n",
            "  [0 0 0]\n",
            "  [0 0 0]\n",
            "  [0 0 0]]\n",
            "\n",
            " [[0 0 0]\n",
            "  [0 0 0]\n",
            "  [0 0 0]\n",
            "  ...\n",
            "  [0 0 0]\n",
            "  [0 0 0]\n",
            "  [0 0 0]]]\n"
          ],
          "name": "stdout"
        }
      ]
    },
    {
      "cell_type": "code",
      "metadata": {
        "id": "6nKNce6viT3n"
      },
      "source": [
        "train_copy = train_images\n",
        "test_copy = test_images"
      ],
      "execution_count": 13,
      "outputs": []
    },
    {
      "cell_type": "code",
      "metadata": {
        "id": "HkT5vVtHfwN7"
      },
      "source": [
        "# Reshaping the dataset to flatten them. Remember that we always have to give a 4D array as input to CNNs\n",
        "\n",
        "train_copy = train_copy.reshape(train_copy.shape[0], 64,64,3)\n",
        "test_copy = test_copy.reshape(test_copy.shape[0], 64,64,3)"
      ],
      "execution_count": 14,
      "outputs": []
    },
    {
      "cell_type": "code",
      "metadata": {
        "id": "a-zILeaLjN9M"
      },
      "source": [
        "# Normalize inputs from 0-255 to 0-1\n",
        "\n",
        "train_copy= train_copy / 255.0\n",
        "test_copy = test_copy / 255.0"
      ],
      "execution_count": 15,
      "outputs": []
    },
    {
      "cell_type": "code",
      "metadata": {
        "colab": {
          "base_uri": "https://localhost:8080/"
        },
        "id": "Pv8rmExJnWUd",
        "outputId": "ce64dec7-6392-4d6a-b724-02d48d70f685"
      },
      "source": [
        "# New shape \n",
        "\n",
        "print('Training set:', train_copy.shape, train_labels.shape)\n",
        "print('Test set:', test_copy.shape, test_labels.shape)"
      ],
      "execution_count": 16,
      "outputs": [
        {
          "output_type": "stream",
          "text": [
            "Training set: (24958, 64, 64, 3) (24958,)\n",
            "Test set: (2600, 64, 64, 3) (2600,)\n"
          ],
          "name": "stdout"
        }
      ]
    },
    {
      "cell_type": "code",
      "metadata": {
        "colab": {
          "base_uri": "https://localhost:8080/"
        },
        "id": "eP1bUBiMn1NG",
        "outputId": "a0ea31e1-e570-4fea-e84e-c1b04169b000"
      },
      "source": [
        "#Write the function and appropriate variable name to one-hot encode the output\n",
        "\n",
        "train_labels_ohe = tf.keras.utils.to_categorical(train_labels)\n",
        "test_labels_ohe = tf.keras.utils.to_categorical(test_labels)\n",
        "\n",
        "#test labels\n",
        "test_labels_ohe"
      ],
      "execution_count": 17,
      "outputs": [
        {
          "output_type": "execute_result",
          "data": {
            "text/plain": [
              "array([[0., 1.],\n",
              "       [0., 1.],\n",
              "       [0., 1.],\n",
              "       ...,\n",
              "       [1., 0.],\n",
              "       [1., 0.],\n",
              "       [1., 0.]], dtype=float32)"
            ]
          },
          "metadata": {
            "tags": []
          },
          "execution_count": 17
        }
      ]
    },
    {
      "cell_type": "markdown",
      "metadata": {
        "id": "-Kr_YS2VoeVI"
      },
      "source": [
        "#Model Building"
      ]
    },
    {
      "cell_type": "markdown",
      "metadata": {
        "id": "vF6DBfjy-sUj"
      },
      "source": [
        "### **Model Architecture**\n",
        "- Write a function that returns a sequential model with the following architecture\n",
        " - First Convolutional layer with **16 filters and kernel size of 3x3**. Use the **'same' padding** and provide an **apt input shape**\n",
        " - Add a **LeakyRelu layer** with the **slope equal to 0.1**\n",
        " - Second Convolutional layer with **32 filters and kernel size of 3x3 with 'same' padding**\n",
        " - Another **LeakyRelu** with the **slope equal to 0.1**\n",
        " - A **max-pooling layer** with a **pool size of 2x2**\n",
        " - **Flatten** the output from the previous layer\n",
        " - Add a **dense layer with 32 nodes**\n",
        " - Add a **LeakyRelu layer with slope equal to 0.1**\n",
        " - Add the final **output layer with nodes equal to the number of classes** and **softmax activation**\n",
        " - Compile the model with the **categorical_crossentropy loss, adam optimizers (learning_rate = 0.001), and accuracy metric**. Do not fit the model here, just return the compiled model\n",
        "- Call the function and store the model in a new variable\n",
        "- Print the summary of the model.\n",
        "- Fit the model on the train data with a **validation split of 0.2, batch size = 32, verbose = 1, and 20 epochs**. Store the model building history to use later for visualization."
      ]
    },
    {
      "cell_type": "code",
      "metadata": {
        "id": "I-CKaOsfoNrb"
      },
      "source": [
        "#Fixing the seed for random number generators\n",
        "np.random.seed(42)\n",
        "import random\n",
        "random.seed(42)\n",
        "tf.random.set_seed(42)"
      ],
      "execution_count": 58,
      "outputs": []
    },
    {
      "cell_type": "code",
      "metadata": {
        "id": "7jWzHicNoqqP"
      },
      "source": [
        "#Importing losses and optimizers modules\n",
        "from tensorflow.keras import losses\n",
        "from tensorflow.keras import optimizers\n",
        "\n",
        "#Define the function\n",
        "def cnn_model_1():\n",
        "    model = Sequential() \n",
        "    #Add layers as per the architecture mentioned above in the same sequence\n",
        "    model.add(Conv2D(filters=16, kernel_size=(3, 3), padding='same', input_shape = (64,64,3)))\n",
        "    model.add(LeakyReLU(0.1))\n",
        "    model.add(Conv2D(filters=32, kernel_size=(3, 3), padding='same'))\n",
        "    model.add(LeakyReLU(0.1))\n",
        "    model.add(MaxPool2D(pool_size=(2,2)))\n",
        "\n",
        "    model.add(Flatten())\n",
        "    model.add(Dense(32))\n",
        "    model.add(LeakyReLU(0.1))\n",
        "    model.add(Dense(2, activation='softmax'))\n",
        "    #declare adam optimizer with learning rate of 0.001 \n",
        "    adam = optimizers.Adam(0.002)\n",
        "    \n",
        "    #compile the model\n",
        "    model.compile(loss = 'categorical_crossentropy', optimizer= adam, metrics =['accuracy'])\n",
        "    \n",
        "    return model"
      ],
      "execution_count": 59,
      "outputs": []
    },
    {
      "cell_type": "code",
      "metadata": {
        "id": "4lgrwHCPpoGe"
      },
      "source": [
        "#Build the model\n",
        "model_1 = cnn_model_1()"
      ],
      "execution_count": 60,
      "outputs": []
    },
    {
      "cell_type": "code",
      "metadata": {
        "colab": {
          "base_uri": "https://localhost:8080/"
        },
        "id": "XYQ2asaYpooK",
        "outputId": "9e55a690-9f57-4bf1-b9de-18a5a5a3ce34"
      },
      "source": [
        "#Print the model summary\n",
        "model_1.summary()"
      ],
      "execution_count": 61,
      "outputs": [
        {
          "output_type": "stream",
          "text": [
            "Model: \"sequential\"\n",
            "_________________________________________________________________\n",
            "Layer (type)                 Output Shape              Param #   \n",
            "=================================================================\n",
            "conv2d (Conv2D)              (None, 64, 64, 16)        448       \n",
            "_________________________________________________________________\n",
            "leaky_re_lu (LeakyReLU)      (None, 64, 64, 16)        0         \n",
            "_________________________________________________________________\n",
            "conv2d_1 (Conv2D)            (None, 64, 64, 32)        4640      \n",
            "_________________________________________________________________\n",
            "leaky_re_lu_1 (LeakyReLU)    (None, 64, 64, 32)        0         \n",
            "_________________________________________________________________\n",
            "max_pooling2d (MaxPooling2D) (None, 32, 32, 32)        0         \n",
            "_________________________________________________________________\n",
            "flatten (Flatten)            (None, 32768)             0         \n",
            "_________________________________________________________________\n",
            "dense (Dense)                (None, 32)                1048608   \n",
            "_________________________________________________________________\n",
            "leaky_re_lu_2 (LeakyReLU)    (None, 32)                0         \n",
            "_________________________________________________________________\n",
            "dense_1 (Dense)              (None, 2)                 66        \n",
            "=================================================================\n",
            "Total params: 1,053,762\n",
            "Trainable params: 1,053,762\n",
            "Non-trainable params: 0\n",
            "_________________________________________________________________\n"
          ],
          "name": "stdout"
        }
      ]
    },
    {
      "cell_type": "code",
      "metadata": {
        "colab": {
          "base_uri": "https://localhost:8080/"
        },
        "id": "DIpoRyPPpujy",
        "outputId": "a8bd4c2f-8104-47a9-d3ec-2c44087d2652"
      },
      "source": [
        "# Fit the model\n",
        "history_model_1 = model_1.fit(train_copy, train_labels_ohe, validation_split=0.2, batch_size=16, verbose=1, epochs=10)"
      ],
      "execution_count": 62,
      "outputs": [
        {
          "output_type": "stream",
          "text": [
            "Epoch 1/10\n",
            "1248/1248 [==============================] - 25s 19ms/step - loss: 0.4833 - accuracy: 0.7716 - val_loss: 0.3667 - val_accuracy: 0.9065\n",
            "Epoch 2/10\n",
            "1248/1248 [==============================] - 24s 20ms/step - loss: 0.2501 - accuracy: 0.9068 - val_loss: 0.3920 - val_accuracy: 0.9062\n",
            "Epoch 3/10\n",
            "1248/1248 [==============================] - 25s 20ms/step - loss: 0.2026 - accuracy: 0.9286 - val_loss: 0.2487 - val_accuracy: 0.9495\n",
            "Epoch 4/10\n",
            "1248/1248 [==============================] - 25s 20ms/step - loss: 0.1634 - accuracy: 0.9414 - val_loss: 0.2353 - val_accuracy: 0.9349\n",
            "Epoch 5/10\n",
            "1248/1248 [==============================] - 25s 20ms/step - loss: 0.1217 - accuracy: 0.9561 - val_loss: 0.1676 - val_accuracy: 0.9517\n",
            "Epoch 6/10\n",
            "1248/1248 [==============================] - 25s 20ms/step - loss: 0.0912 - accuracy: 0.9673 - val_loss: 0.2322 - val_accuracy: 0.9587\n",
            "Epoch 7/10\n",
            "1248/1248 [==============================] - 25s 20ms/step - loss: 0.0659 - accuracy: 0.9770 - val_loss: 0.3138 - val_accuracy: 0.9457\n",
            "Epoch 8/10\n",
            "1248/1248 [==============================] - 25s 20ms/step - loss: 0.0482 - accuracy: 0.9826 - val_loss: 0.3318 - val_accuracy: 0.9489\n",
            "Epoch 9/10\n",
            "1248/1248 [==============================] - 25s 20ms/step - loss: 0.0357 - accuracy: 0.9875 - val_loss: 0.4920 - val_accuracy: 0.9217\n",
            "Epoch 10/10\n",
            "1248/1248 [==============================] - 25s 20ms/step - loss: 0.0423 - accuracy: 0.9868 - val_loss: 0.4359 - val_accuracy: 0.9499\n"
          ],
          "name": "stdout"
        }
      ]
    },
    {
      "cell_type": "code",
      "metadata": {
        "colab": {
          "base_uri": "https://localhost:8080/",
          "height": 497
        },
        "id": "ZKAyXYr9WlC_",
        "outputId": "ead2cd67-663a-4e44-815a-151fb5fed6ea"
      },
      "source": [
        "# plotting the accuracies\n",
        "\n",
        "dict_hist = history_model_1.history\n",
        "list_ep = [i for i in range(1,11)]\n",
        "\n",
        "plt.figure(figsize = (8,8))\n",
        "plt.plot(list_ep,dict_hist['accuracy'],ls = '--', label = 'accuracy')\n",
        "plt.plot(list_ep,dict_hist['val_accuracy'],ls = '--', label = 'val_accuracy')\n",
        "plt.ylabel('Accuracy')\n",
        "plt.xlabel('Epochs')\n",
        "plt.legend()\n",
        "plt.show()"
      ],
      "execution_count": 63,
      "outputs": [
        {
          "output_type": "display_data",
          "data": {
            "image/png": "[encoded data removed]",
            "text/plain": [
              "<Figure size 576x576 with 1 Axes>"
            ]
          },
          "metadata": {
            "tags": [],
            "needs_background": "light"
          }
        }
      ]
    },
    {
      "cell_type": "code",
      "metadata": {
        "id": "4JKrxD6AaMf-"
      },
      "source": [
        "#Clearing backend\n",
        "from tensorflow.keras import backend\n",
        "backend.clear_session()"
      ],
      "execution_count": 64,
      "outputs": []
    },
    {
      "cell_type": "code",
      "metadata": {
        "id": "XhLBcsMM-gCi"
      },
      "source": [
        "#Fixing the seed for random number generators\n",
        "np.random.seed(42)\n",
        "import random\n",
        "random.seed(42)\n",
        "tf.random.set_seed(42)"
      ],
      "execution_count": 65,
      "outputs": []
    },
    {
      "cell_type": "markdown",
      "metadata": {
        "id": "lgU-Ll6O-6aO"
      },
      "source": [
        "### **Second Model Architecture**\n",
        "- Write a function that returns a sequential model with the following architecture\n",
        " - First Convolutional layer with **16 filters and kernel size of 3x3**. Use the **'same' padding** and provide an **apt input shape**\n",
        " - Add a **LeakyRelu layer** with the **slope equal to 0.1**\n",
        " - Second Convolutional layer with **32 filters and kernel size of 3x3 with 'same' padding**\n",
        " - Add **LeakyRelu** with the **slope equal to 0.1**\n",
        " - Add a **max-pooling layer** with a **pool size of 2x2**\n",
        " - Add a **BatchNormalization layer**\n",
        " - Third Convolutional layer with **32 filters and kernel size of 3x3 with 'same' padding**\n",
        " - Add a **LeakyRelu layer with slope equal to 0.1**\n",
        " - Fourth Convolutional layer **64 filters and kernel size of 3x3 with 'same' padding** \n",
        " - Add a **LeakyRelu layer with slope equal to 0.1**\n",
        " - Add a **max-pooling layer** with a **pool size of 2x2**\n",
        " - Add a **BatchNormalization layer**\n",
        " - **Flatten** the output from the previous layer\n",
        " - Add a **dense layer with 32 nodes**\n",
        " - Add a **LeakyRelu layer with slope equal to 0.1**\n",
        " - Add a **dropout layer with rate equal to 0.5**\n",
        " - Add the final **output layer with nodes equal to the number of classes** and **softmax activation**\n",
        " - Compile the model with the **categorical_crossentropy loss, adam optimizers (learning_rate = 0.001), and accuracy metric**. Do not fit the model here, just return the compiled model\n",
        "- Call the function and store the model in a new variable\n",
        "- Print the summary of the model.\n",
        "- Fit the model on the train data with a **validation split of 0.2, batch size = 32, verbose = 1, and 15 epochs**. Store the model building history to use later for visualization."
      ]
    },
    {
      "cell_type": "code",
      "metadata": {
        "id": "UwVw0-As-5zC"
      },
      "source": [
        "#Define the function\n",
        "def cnn_model_2():\n",
        "    model = Sequential() \n",
        "    #Add layers as per the architecture mentioned above in the same sequence\n",
        "    model.add(Conv2D(filters=16, kernel_size=(3, 3), padding='same', input_shape = (64,64,3)))\n",
        "    model.add(LeakyReLU(0.1))\n",
        "    model.add(Conv2D(filters=32, kernel_size=(3, 3), padding='same'))\n",
        "    model.add(LeakyReLU(0.1))\n",
        "    model.add(MaxPool2D(pool_size=(2,2)))\n",
        "    model.add(BatchNormalization())\n",
        "    model.add(Conv2D(filters=32, kernel_size=(3, 3), padding='same'))\n",
        "    model.add(LeakyReLU(0.1))\n",
        "    model.add(Conv2D(filters=64, kernel_size=(3, 3), padding='same'))\n",
        "    model.add(LeakyReLU(0.1))\n",
        "    model.add(MaxPool2D(pool_size=(2,2)))\n",
        "    model.add(BatchNormalization())\n",
        "    \n",
        "    model.add(Flatten())\n",
        "    model.add(Dense(32))\n",
        "    model.add(LeakyReLU(0.1))\n",
        "    model.add(Dropout(0.5))\n",
        "    model.add(Dense(2, activation='softmax'))\n",
        "    #declare adam optimizer with learning rate of 0.001 \n",
        "    adam = optimizers.Adam(0.001)\n",
        "    \n",
        "    #compile the model\n",
        "    model.compile(loss = 'categorical_crossentropy', optimizer= adam, metrics =['accuracy'])\n",
        "    \n",
        "    return model"
      ],
      "execution_count": 71,
      "outputs": []
    },
    {
      "cell_type": "code",
      "metadata": {
        "id": "co_H14vA_Tom"
      },
      "source": [
        "#Build the model\n",
        "model_2 = cnn_model_2()"
      ],
      "execution_count": 72,
      "outputs": []
    },
    {
      "cell_type": "code",
      "metadata": {
        "colab": {
          "base_uri": "https://localhost:8080/"
        },
        "id": "oj-PLq_Q_XdP",
        "outputId": "21ba6364-11b0-488f-c803-428d591d2f61"
      },
      "source": [
        "#Print the model summary\n",
        "model_2.summary()"
      ],
      "execution_count": 73,
      "outputs": [
        {
          "output_type": "stream",
          "text": [
            "Model: \"sequential_1\"\n",
            "_________________________________________________________________\n",
            "Layer (type)                 Output Shape              Param #   \n",
            "=================================================================\n",
            "conv2d_4 (Conv2D)            (None, 64, 64, 16)        448       \n",
            "_________________________________________________________________\n",
            "leaky_re_lu_5 (LeakyReLU)    (None, 64, 64, 16)        0         \n",
            "_________________________________________________________________\n",
            "conv2d_5 (Conv2D)            (None, 64, 64, 32)        4640      \n",
            "_________________________________________________________________\n",
            "leaky_re_lu_6 (LeakyReLU)    (None, 64, 64, 32)        0         \n",
            "_________________________________________________________________\n",
            "max_pooling2d_2 (MaxPooling2 (None, 32, 32, 32)        0         \n",
            "_________________________________________________________________\n",
            "batch_normalization_2 (Batch (None, 32, 32, 32)        128       \n",
            "_________________________________________________________________\n",
            "conv2d_6 (Conv2D)            (None, 32, 32, 32)        9248      \n",
            "_________________________________________________________________\n",
            "leaky_re_lu_7 (LeakyReLU)    (None, 32, 32, 32)        0         \n",
            "_________________________________________________________________\n",
            "conv2d_7 (Conv2D)            (None, 32, 32, 64)        18496     \n",
            "_________________________________________________________________\n",
            "leaky_re_lu_8 (LeakyReLU)    (None, 32, 32, 64)        0         \n",
            "_________________________________________________________________\n",
            "max_pooling2d_3 (MaxPooling2 (None, 16, 16, 64)        0         \n",
            "_________________________________________________________________\n",
            "batch_normalization_3 (Batch (None, 16, 16, 64)        256       \n",
            "_________________________________________________________________\n",
            "flatten_1 (Flatten)          (None, 16384)             0         \n",
            "_________________________________________________________________\n",
            "dense_2 (Dense)              (None, 32)                524320    \n",
            "_________________________________________________________________\n",
            "leaky_re_lu_9 (LeakyReLU)    (None, 32)                0         \n",
            "_________________________________________________________________\n",
            "dropout_1 (Dropout)          (None, 32)                0         \n",
            "_________________________________________________________________\n",
            "dense_3 (Dense)              (None, 2)                 66        \n",
            "=================================================================\n",
            "Total params: 557,602\n",
            "Trainable params: 557,410\n",
            "Non-trainable params: 192\n",
            "_________________________________________________________________\n"
          ],
          "name": "stdout"
        }
      ]
    },
    {
      "cell_type": "code",
      "metadata": {
        "colab": {
          "base_uri": "https://localhost:8080/"
        },
        "id": "sGbKS6sh_azN",
        "outputId": "2a38f50a-cb38-412e-873a-021cb596e7e3"
      },
      "source": [
        "# Fit the model\n",
        "history_model_2 = model_2.fit(train_copy, train_labels_ohe, validation_split=0.2, batch_size=32, verbose=1, epochs=15)"
      ],
      "execution_count": 74,
      "outputs": [
        {
          "output_type": "stream",
          "text": [
            "Epoch 1/20\n",
            "624/624 [==============================] - 60s 96ms/step - loss: 0.5449 - accuracy: 0.7993 - val_loss: 0.1125 - val_accuracy: 0.9886\n",
            "Epoch 2/20\n",
            "624/624 [==============================] - 64s 103ms/step - loss: 0.2070 - accuracy: 0.9293 - val_loss: 0.0860 - val_accuracy: 0.9906\n",
            "Epoch 3/20\n",
            "624/624 [==============================] - 56s 89ms/step - loss: 0.1673 - accuracy: 0.9429 - val_loss: 0.1449 - val_accuracy: 0.9667\n",
            "Epoch 4/20\n",
            "624/624 [==============================] - 51s 82ms/step - loss: 0.1504 - accuracy: 0.9468 - val_loss: 0.6350 - val_accuracy: 0.7312\n",
            "Epoch 5/20\n",
            "624/624 [==============================] - 54s 87ms/step - loss: 0.1410 - accuracy: 0.9492 - val_loss: 0.1516 - val_accuracy: 0.9627\n",
            "Epoch 6/20\n",
            "624/624 [==============================] - 56s 90ms/step - loss: 0.1310 - accuracy: 0.9524 - val_loss: 0.1484 - val_accuracy: 0.9635\n",
            "Epoch 7/20\n",
            "624/624 [==============================] - 57s 91ms/step - loss: 0.1236 - accuracy: 0.9560 - val_loss: 0.0327 - val_accuracy: 0.9914\n",
            "Epoch 8/20\n",
            "624/624 [==============================] - 57s 91ms/step - loss: 0.1233 - accuracy: 0.9555 - val_loss: 0.1492 - val_accuracy: 0.9716\n",
            "Epoch 9/20\n",
            "624/624 [==============================] - 49s 79ms/step - loss: 0.1141 - accuracy: 0.9584 - val_loss: 0.1035 - val_accuracy: 0.9792\n",
            "Epoch 10/20\n",
            "624/624 [==============================] - 48s 76ms/step - loss: 0.1088 - accuracy: 0.9596 - val_loss: 0.1596 - val_accuracy: 0.9694\n",
            "Epoch 11/20\n",
            "624/624 [==============================] - 48s 77ms/step - loss: 0.1045 - accuracy: 0.9624 - val_loss: 0.2937 - val_accuracy: 0.9461\n",
            "Epoch 12/20\n",
            "624/624 [==============================] - 54s 87ms/step - loss: 0.1000 - accuracy: 0.9635 - val_loss: 0.1298 - val_accuracy: 0.9742\n",
            "Epoch 13/20\n",
            "624/624 [==============================] - 59s 94ms/step - loss: 0.0917 - accuracy: 0.9655 - val_loss: 0.0914 - val_accuracy: 0.9796\n",
            "Epoch 14/20\n",
            "624/624 [==============================] - 46s 74ms/step - loss: 0.0864 - accuracy: 0.9671 - val_loss: 0.2524 - val_accuracy: 0.9439\n",
            "Epoch 15/20\n",
            "624/624 [==============================] - 44s 71ms/step - loss: 0.0794 - accuracy: 0.9694 - val_loss: 0.1831 - val_accuracy: 0.9591\n",
            "Epoch 16/20\n",
            "624/624 [==============================] - 48s 77ms/step - loss: 0.0729 - accuracy: 0.9735 - val_loss: 0.0769 - val_accuracy: 0.9838\n",
            "Epoch 17/20\n",
            "624/624 [==============================] - 45s 72ms/step - loss: 0.0690 - accuracy: 0.9748 - val_loss: 0.2431 - val_accuracy: 0.9563\n",
            "Epoch 18/20\n",
            "624/624 [==============================] - 44s 70ms/step - loss: 0.0627 - accuracy: 0.9761 - val_loss: 0.2639 - val_accuracy: 0.9567\n",
            "Epoch 19/20\n",
            "624/624 [==============================] - 44s 70ms/step - loss: 0.0557 - accuracy: 0.9795 - val_loss: 0.3168 - val_accuracy: 0.9381\n",
            "Epoch 20/20\n",
            "624/624 [==============================] - 45s 71ms/step - loss: 0.0526 - accuracy: 0.9803 - val_loss: 0.3003 - val_accuracy: 0.9391\n"
          ],
          "name": "stdout"
        }
      ]
    },
    {
      "cell_type": "code",
      "metadata": {
        "colab": {
          "base_uri": "https://localhost:8080/",
          "height": 497
        },
        "id": "pnHpCuXZ_nP9",
        "outputId": "42d23bfb-f334-44b4-fc26-d44af45e58cc"
      },
      "source": [
        "# plotting the accuracies\n",
        "\n",
        "dict_hist = history_model_2.history\n",
        "list_ep = [i for i in range(1,21)]\n",
        "\n",
        "plt.figure(figsize = (8,8))\n",
        "plt.plot(list_ep,dict_hist['accuracy'],ls = '--', label = 'accuracy')\n",
        "plt.plot(list_ep,dict_hist['val_accuracy'],ls = '--', label = 'val_accuracy')\n",
        "plt.ylabel('Accuracy')\n",
        "plt.xlabel('Epochs')\n",
        "plt.legend()\n",
        "plt.show()"
      ],
      "execution_count": 75,
      "outputs": [
        {
          "output_type": "display_data",
          "data": {
            "image/png": "[encoded data removed]",
            "text/plain": [
              "<Figure size 576x576 with 1 Axes>"
            ]
          },
          "metadata": {
            "tags": [],
            "needs_background": "light"
          }
        }
      ]
    },
    {
      "cell_type": "code",
      "metadata": {
        "id": "A8M1zzBeNNWg"
      },
      "source": [
        "#Make prediction on the test data using model_2 \n",
        "test_pred = model_2.predict(test_copy)\n",
        "\n",
        "test_pred = np.argmax(test_pred, axis=-1)"
      ],
      "execution_count": 76,
      "outputs": []
    },
    {
      "cell_type": "code",
      "metadata": {
        "id": "kKnBcIeYNUsb"
      },
      "source": [
        "#Converting each entry to single label from one-hot encoded vector\n",
        "test_pred_label = np.argmax(test_labels_ohe, axis=-1)"
      ],
      "execution_count": 77,
      "outputs": []
    },
    {
      "cell_type": "code",
      "metadata": {
        "colab": {
          "base_uri": "https://localhost:8080/",
          "height": 487
        },
        "id": "_jkbxWEZNXug",
        "outputId": "6de2c713-7ee0-4dd8-a980-f20eb263b026"
      },
      "source": [
        "#importing required functions\n",
        "from sklearn.metrics import classification_report\n",
        "from sklearn.metrics import confusion_matrix\n",
        "\n",
        "#Printing the classification report\n",
        "print(classification_report(test_pred_label, test_pred))\n",
        "\n",
        "#Plotting the heatmap using confusion matrix\n",
        "cm = confusion_matrix(test_pred_label, test_pred)\n",
        "plt.figure(figsize=(8,5))\n",
        "sns.heatmap(cm, annot=True,  fmt='.0f')\n",
        "plt.ylabel('Actual')\n",
        "plt.xlabel('Predicted')\n",
        "plt.show()"
      ],
      "execution_count": 78,
      "outputs": [
        {
          "output_type": "stream",
          "text": [
            "              precision    recall  f1-score   support\n",
            "\n",
            "           0       0.95      0.92      0.93      1300\n",
            "           1       0.92      0.95      0.94      1300\n",
            "\n",
            "    accuracy                           0.93      2600\n",
            "   macro avg       0.93      0.93      0.93      2600\n",
            "weighted avg       0.93      0.93      0.93      2600\n",
            "\n"
          ],
          "name": "stdout"
        },
        {
          "output_type": "display_data",
          "data": {
            "image/png": "[encoded data removed]",
            "text/plain": [
              "<Figure size 576x360 with 2 Axes>"
            ]
          },
          "metadata": {
            "tags": [],
            "needs_background": "light"
          }
        }
      ]
    }
  ]
}